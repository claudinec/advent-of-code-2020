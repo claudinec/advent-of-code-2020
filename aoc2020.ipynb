{
 "cells": [
  {
   "cell_type": "markdown",
   "metadata": {},
   "source": [
    "# Advent of Code 2020\n",
    "\n",
    "[Website](https://adventofcode.com/2020/)"
   ]
  },
  {
   "cell_type": "markdown",
   "metadata": {},
   "source": [
    "## Day 2\n",
    "\n",
    "### How many passwords are valid?"
   ]
  },
  {
   "cell_type": "code",
   "execution_count": 26,
   "metadata": {},
   "outputs": [
    {
     "name": "stdout",
     "output_type": "stream",
     "text": [
      "591\n"
     ]
    }
   ],
   "source": [
    "import re\n",
    "\n",
    "valid = 0\n",
    "\n",
    "with open('day02-input.txt') as input_file:\n",
    "    for line in input_file:\n",
    "        pw = re.split(r'-|:? ', str.strip(line))\n",
    "        matched = re.findall(pw[2], pw[3])\n",
    "        if len(matched) >= int(pw[0]) and len(matched) <= int(pw[1]):\n",
    "            # print(pw)\n",
    "            valid = valid + 1\n",
    "\n",
    "print(valid)"
   ]
  },
  {
   "cell_type": "markdown",
   "metadata": {},
   "source": [
    "### New validation rules"
   ]
  },
  {
   "cell_type": "code",
   "execution_count": 53,
   "metadata": {},
   "outputs": [
    {
     "name": "stdout",
     "output_type": "stream",
     "text": [
      "335\n"
     ]
    }
   ],
   "source": [
    "import operator\n",
    "\n",
    "valid_pos = 0\n",
    "\n",
    "with open('day02-input.txt') as input_file:\n",
    "    for line in input_file:\n",
    "        pw = re.split(r'-|:? ', str.strip(line))\n",
    "        pos0 = int(pw[0]) - 1\n",
    "        pos1 = int(pw[1]) - 1\n",
    "        ltr = pw[2]\n",
    "        pw_str = pw[3]\n",
    "        if operator.xor(pw_str[pos0] == ltr, pw_str[pos1] == ltr):\n",
    "            valid_pos = valid_pos + 1\n",
    "\n",
    "print(valid_pos)"
   ]
  },
  {
   "cell_type": "code",
   "execution_count": null,
   "metadata": {},
   "outputs": [],
   "source": []
  }
 ],
 "metadata": {
  "kernelspec": {
   "display_name": "Python 3",
   "language": "python",
   "name": "python3"
  },
  "language_info": {
   "codemirror_mode": {
    "name": "ipython",
    "version": 3
   },
   "file_extension": ".py",
   "mimetype": "text/x-python",
   "name": "python",
   "nbconvert_exporter": "python",
   "pygments_lexer": "ipython3",
   "version": "3.8.1"
  }
 },
 "nbformat": 4,
 "nbformat_minor": 4
}
