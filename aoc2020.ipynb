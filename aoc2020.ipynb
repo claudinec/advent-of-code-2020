{
 "cells": [
  {
   "cell_type": "markdown",
   "metadata": {},
   "source": [
    "# Advent of Code 2020\n",
    "\n",
    "[Website](https://adventofcode.com/2020/)"
   ]
  },
  {
   "cell_type": "code",
   "execution_count": 1,
   "metadata": {},
   "outputs": [],
   "source": [
    "# import modules\n",
    "import operator\n",
    "import re"
   ]
  },
  {
   "cell_type": "markdown",
   "metadata": {},
   "source": [
    "## Day 1\n",
    "\n",
    "Find the two entries that sum to 2020; what do you get if you multiply them together?"
   ]
  },
  {
   "cell_type": "code",
   "execution_count": 24,
   "metadata": {},
   "outputs": [
    {
     "name": "stdout",
     "output_type": "stream",
     "text": [
      "1020099\n"
     ]
    }
   ],
   "source": [
    "with open('day01-input.txt') as input_file_01:\n",
    "    input_01 = input_file_01.readlines()\n",
    "    while len(input_01) > 2:\n",
    "        a = int(input_01.pop(1))\n",
    "        for x in range(1, len(input_01)):\n",
    "            b = int(input_01[x])\n",
    "            if (a + b == 2020):\n",
    "                prod_ab = a * b\n",
    "                print(prod_ab)\n",
    "                break"
   ]
  },
  {
   "cell_type": "markdown",
   "metadata": {},
   "source": [
    "What is the product of the three entries that sum to 2020?"
   ]
  },
  {
   "cell_type": "code",
   "execution_count": 25,
   "metadata": {},
   "outputs": [
    {
     "name": "stdout",
     "output_type": "stream",
     "text": [
      "49214880\n"
     ]
    }
   ],
   "source": [
    "with open('day01-input.txt') as input_file_01:\n",
    "    input_01 = input_file_01.readlines()\n",
    "    while len(input_01) > 2:\n",
    "        a = int(input_01.pop(1))\n",
    "        for x in range(1, len(input_01)):\n",
    "            b = int(input_01[x])\n",
    "            for y in range(x, len(input_01)):\n",
    "                c  = int(input_01[y])\n",
    "                if (a + b + c == 2020):\n",
    "                    prod_abc = a * b * c\n",
    "                    print(prod_abc)\n",
    "                    break"
   ]
  },
  {
   "cell_type": "markdown",
   "metadata": {},
   "source": [
    "## Day 2\n",
    "\n",
    "### How many passwords are valid?"
   ]
  },
  {
   "cell_type": "code",
   "execution_count": 4,
   "metadata": {},
   "outputs": [
    {
     "name": "stdout",
     "output_type": "stream",
     "text": [
      "591\n"
     ]
    }
   ],
   "source": [
    "valid = 0\n",
    "\n",
    "with open('day02-input.txt') as input_file_02:\n",
    "    for line in input_file_02:\n",
    "        pw = re.split(r'-|:? ', str.strip(line))\n",
    "        matched = re.findall(pw[2], pw[3])\n",
    "        if len(matched) >= int(pw[0]) and len(matched) <= int(pw[1]):\n",
    "            # print(pw)\n",
    "            valid = valid + 1\n",
    "\n",
    "print(valid)"
   ]
  },
  {
   "cell_type": "markdown",
   "metadata": {},
   "source": [
    "### New validation rules"
   ]
  },
  {
   "cell_type": "code",
   "execution_count": 16,
   "metadata": {},
   "outputs": [
    {
     "name": "stdout",
     "output_type": "stream",
     "text": [
      "335\n"
     ]
    }
   ],
   "source": [
    "valid_pos = 0\n",
    "\n",
    "with open('day02-input.txt') as input_file_02:\n",
    "    for line in input_file_02:\n",
    "        pw = re.split(r'-|:? ', str.strip(line))\n",
    "        pos0 = int(pw[0]) - 1\n",
    "        pos1 = int(pw[1]) - 1\n",
    "        ltr = pw[2]\n",
    "        pw_str = pw[3]\n",
    "        if operator.xor(pw_str[pos0] == ltr, pw_str[pos1] == ltr):\n",
    "            valid_pos = valid_pos + 1\n",
    "\n",
    "print(valid_pos)"
   ]
  },
  {
   "cell_type": "markdown",
   "metadata": {},
   "source": [
    "## Day 3\n",
    "\n",
    "With a slope of three right and one down, how many trees do I encounter on the map?"
   ]
  },
  {
   "cell_type": "code",
   "execution_count": 65,
   "metadata": {},
   "outputs": [
    {
     "name": "stdout",
     "output_type": "stream",
     "text": [
      "254\n"
     ]
    }
   ],
   "source": [
    "# First we repeat the map rightward to at least three times its length.\n",
    "\n",
    "# Map of the area\n",
    "a = []\n",
    "b = []\n",
    "with open('day03-input.txt') as input_file_03:\n",
    "    for line in input_file_03:\n",
    "        x = len(line)\n",
    "        a.append(line.strip())\n",
    "\n",
    "# How many rows down\n",
    "y = len(a)\n",
    "\n",
    "# How much we need to repeat the map\n",
    "r = (4 * y) // x + 1\n",
    "\n",
    "# Repeat each row to the right r times\n",
    "for row in a:\n",
    "    row *= r\n",
    "    b.append(row)\n",
    "\n",
    "# print(b)\n",
    "\n",
    "# Now move across and down the map.\n",
    "\n",
    "# Trees found\n",
    "t = 0\n",
    "\n",
    "# Position of toboggan\n",
    "p = [0, 0]\n",
    "while p[0] < x * r-1 and p[1] < y-1:\n",
    "    p[0] = p[0] + 3\n",
    "    p[1] = p[1] + 1\n",
    "    if b[p[1]][p[0]] == '#':\n",
    "        t = t + 1\n",
    "\n",
    "print(t)"
   ]
  },
  {
   "cell_type": "markdown",
   "metadata": {},
   "source": [
    "The same, with different slope combinations."
   ]
  },
  {
   "cell_type": "code",
   "execution_count": 70,
   "metadata": {},
   "outputs": [
    {
     "name": "stdout",
     "output_type": "stream",
     "text": [
      "{0: 63, 1: 254, 2: 62, 3: 56, 4: 30}\n",
      "1666768320\n"
     ]
    }
   ],
   "source": [
    "# Repeat the map again.\n",
    "\n",
    "# How much we need to repeat the map\n",
    "r = (8 * y) // x + 1\n",
    "\n",
    "# Repeat each row to the right r times\n",
    "b =  []\n",
    "for row in a:\n",
    "    row *= r\n",
    "    b.append(row)\n",
    "\n",
    "# Four more slope combinations.\n",
    "sl = {0: [1, 1], 1: [3, 1], 2: [5, 1], 3: [7, 1], 4: [1, 2]}\n",
    "\n",
    "# Record of trees hit by each slope.\n",
    "tr = {}\n",
    "\n",
    "# Final product\n",
    "pr = 1\n",
    "\n",
    "for i in range(0, 5):\n",
    "    # print(sl[i])\n",
    "    p = [0, 0]\n",
    "    t = 0\n",
    "    while p[0] < x * r-1 and p[1] < y-1:\n",
    "        p[0] = p[0] + sl[i][0]\n",
    "        p[1] = p[1] + sl[i][1]\n",
    "        if b[p[1]][p[0]] == '#':\n",
    "            t = t + 1\n",
    "    tr[i] = t\n",
    "    pr = pr * t\n",
    "\n",
    "print(tr)\n",
    "print(pr)"
   ]
  },
  {
   "cell_type": "code",
   "execution_count": null,
   "metadata": {},
   "outputs": [],
   "source": []
  }
 ],
 "metadata": {
  "kernelspec": {
   "display_name": "Python 3",
   "language": "python",
   "name": "python3"
  },
  "language_info": {
   "codemirror_mode": {
    "name": "ipython",
    "version": 3
   },
   "file_extension": ".py",
   "mimetype": "text/x-python",
   "name": "python",
   "nbconvert_exporter": "python",
   "pygments_lexer": "ipython3",
   "version": "3.8.1"
  }
 },
 "nbformat": 4,
 "nbformat_minor": 4
}
