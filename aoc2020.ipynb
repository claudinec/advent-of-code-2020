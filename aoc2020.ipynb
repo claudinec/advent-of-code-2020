{
 "cells": [
  {
   "cell_type": "markdown",
   "metadata": {},
   "source": [
    "# Advent of Code 2020\n",
    "\n",
    "[Website](https://adventofcode.com/2020/)"
   ]
  },
  {
   "cell_type": "code",
   "execution_count": 35,
   "metadata": {},
   "outputs": [],
   "source": [
    "# import modules\n",
    "import operator\n",
    "import re"
   ]
  },
  {
   "cell_type": "markdown",
   "metadata": {},
   "source": [
    "## Day 1\n",
    "\n",
    "Find the two entries that sum to 2020; what do you get if you multiply them together?"
   ]
  },
  {
   "cell_type": "code",
   "execution_count": 24,
   "metadata": {},
   "outputs": [
    {
     "name": "stdout",
     "output_type": "stream",
     "text": [
      "1020099\n"
     ]
    }
   ],
   "source": [
    "with open('day01-input.txt') as input_file_01:\n",
    "    input_01 = input_file_01.readlines()\n",
    "    while len(input_01) > 2:\n",
    "        a = int(input_01.pop(1))\n",
    "        for x in range(1, len(input_01)):\n",
    "            b = int(input_01[x])\n",
    "            if (a + b == 2020):\n",
    "                prod_ab = a * b\n",
    "                print(prod_ab)\n",
    "                break"
   ]
  },
  {
   "cell_type": "markdown",
   "metadata": {},
   "source": [
    "What is the product of the three entries that sum to 2020?"
   ]
  },
  {
   "cell_type": "code",
   "execution_count": 25,
   "metadata": {},
   "outputs": [
    {
     "name": "stdout",
     "output_type": "stream",
     "text": [
      "49214880\n"
     ]
    }
   ],
   "source": [
    "with open('day01-input.txt') as input_file_01:\n",
    "    input_01 = input_file_01.readlines()\n",
    "    while len(input_01) > 2:\n",
    "        a = int(input_01.pop(1))\n",
    "        for x in range(1, len(input_01)):\n",
    "            b = int(input_01[x])\n",
    "            for y in range(x, len(input_01)):\n",
    "                c  = int(input_01[y])\n",
    "                if (a + b + c == 2020):\n",
    "                    prod_abc = a * b * c\n",
    "                    print(prod_abc)\n",
    "                    break"
   ]
  },
  {
   "cell_type": "markdown",
   "metadata": {},
   "source": [
    "## Day 2\n",
    "\n",
    "### How many passwords are valid?"
   ]
  },
  {
   "cell_type": "code",
   "execution_count": 4,
   "metadata": {},
   "outputs": [
    {
     "name": "stdout",
     "output_type": "stream",
     "text": [
      "591\n"
     ]
    }
   ],
   "source": [
    "valid = 0\n",
    "\n",
    "with open('day02-input.txt') as input_file_02:\n",
    "    for line in input_file_02:\n",
    "        pw = re.split(r'-|:? ', str.strip(line))\n",
    "        matched = re.findall(pw[2], pw[3])\n",
    "        if len(matched) >= int(pw[0]) and len(matched) <= int(pw[1]):\n",
    "            valid = valid + 1\n",
    "\n",
    "print(valid)"
   ]
  },
  {
   "cell_type": "markdown",
   "metadata": {},
   "source": [
    "### New validation rules"
   ]
  },
  {
   "cell_type": "code",
   "execution_count": 16,
   "metadata": {},
   "outputs": [
    {
     "name": "stdout",
     "output_type": "stream",
     "text": [
      "335\n"
     ]
    }
   ],
   "source": [
    "valid_pos = 0\n",
    "\n",
    "with open('day02-input.txt') as input_file_02:\n",
    "    for line in input_file_02:\n",
    "        pw = re.split(r'-|:? ', str.strip(line))\n",
    "        pos0 = int(pw[0]) - 1\n",
    "        pos1 = int(pw[1]) - 1\n",
    "        ltr = pw[2]\n",
    "        pw_str = pw[3]\n",
    "        if operator.xor(pw_str[pos0] == ltr, pw_str[pos1] == ltr):\n",
    "            valid_pos = valid_pos + 1\n",
    "\n",
    "print(valid_pos)"
   ]
  },
  {
   "cell_type": "markdown",
   "metadata": {},
   "source": [
    "## Day 3\n",
    "\n",
    "With a slope of three right and one down, how many trees do I encounter on the map?"
   ]
  },
  {
   "cell_type": "code",
   "execution_count": 65,
   "metadata": {},
   "outputs": [
    {
     "name": "stdout",
     "output_type": "stream",
     "text": [
      "254\n"
     ]
    }
   ],
   "source": [
    "# First we repeat the map rightward to at least three times its length.\n",
    "\n",
    "# Map of the area\n",
    "a = []\n",
    "b = []\n",
    "with open('day03-input.txt') as input_file_03:\n",
    "    for line in input_file_03:\n",
    "        x = len(line)\n",
    "        a.append(line.strip())\n",
    "\n",
    "# How many rows down\n",
    "y = len(a)\n",
    "\n",
    "# How much we need to repeat the map\n",
    "r = (4 * y) // x + 1\n",
    "\n",
    "# Repeat each row to the right r times\n",
    "for row in a:\n",
    "    row *= r\n",
    "    b.append(row)\n",
    "\n",
    "# Now move across and down the map.\n",
    "\n",
    "# Trees found\n",
    "t = 0\n",
    "\n",
    "# Position of toboggan\n",
    "p = [0, 0]\n",
    "while p[0] < x * r-1 and p[1] < y-1:\n",
    "    p[0] = p[0] + 3\n",
    "    p[1] = p[1] + 1\n",
    "    if b[p[1]][p[0]] == '#':\n",
    "        t = t + 1\n",
    "\n",
    "print(t)"
   ]
  },
  {
   "cell_type": "markdown",
   "metadata": {},
   "source": [
    "The same, with different slope combinations."
   ]
  },
  {
   "cell_type": "code",
   "execution_count": 70,
   "metadata": {},
   "outputs": [
    {
     "name": "stdout",
     "output_type": "stream",
     "text": [
      "{0: 63, 1: 254, 2: 62, 3: 56, 4: 30}\n",
      "1666768320\n"
     ]
    }
   ],
   "source": [
    "# Repeat the map again.\n",
    "\n",
    "# How much we need to repeat the map\n",
    "r = (8 * y) // x + 1\n",
    "\n",
    "# Repeat each row to the right r times\n",
    "b =  []\n",
    "for row in a:\n",
    "    row *= r\n",
    "    b.append(row)\n",
    "\n",
    "# Four more slope combinations.\n",
    "sl = {0: [1, 1], 1: [3, 1], 2: [5, 1], 3: [7, 1], 4: [1, 2]}\n",
    "\n",
    "# Record of trees hit by each slope.\n",
    "tr = {}\n",
    "\n",
    "# Final product\n",
    "pr = 1\n",
    "\n",
    "for i in range(0, 5):\n",
    "    p = [0, 0]\n",
    "    t = 0\n",
    "    while p[0] < x * r-1 and p[1] < y-1:\n",
    "        p[0] = p[0] + sl[i][0]\n",
    "        p[1] = p[1] + sl[i][1]\n",
    "        if b[p[1]][p[0]] == '#':\n",
    "            t = t + 1\n",
    "    tr[i] = t\n",
    "    pr = pr * t\n",
    "\n",
    "print(tr)\n",
    "print(pr)"
   ]
  },
  {
   "cell_type": "markdown",
   "metadata": {},
   "source": [
    "## Day 4\n",
    "\n",
    "Find all valid passports/credentials -- all fields other than `cid` are required."
   ]
  },
  {
   "cell_type": "code",
   "execution_count": 48,
   "metadata": {},
   "outputs": [
    {
     "name": "stdout",
     "output_type": "stream",
     "text": [
      "202\n"
     ]
    }
   ],
   "source": [
    "# Passport fields.\n",
    "fld_ps = ['byr', 'iyr', 'eyr', 'hgt', 'hcl', 'ecl', 'pid', 'cid']\n",
    "fld_cr = set(fld_ps[0:-1])\n",
    "present = 0\n",
    "ps_present = []\n",
    "\n",
    "with open('day04-input.txt') as input_file_04:\n",
    "    input_04 = input_file_04.read()\n",
    "    ps = input_04.split('\\n\\n')\n",
    "\n",
    "    for line in ps:\n",
    "        pp = line.split()\n",
    "        pe = {}\n",
    "        for entry in pp:\n",
    "            ent = re.split(r':', entry, maxsplit=1)\n",
    "            pe[ent[0]] = ent[1]\n",
    "        fld_e = set(list(pe))\n",
    "        if len(fld_cr.difference(fld_e)) == 0:\n",
    "            ps_present.append(pe)\n",
    "            present = present + 1\n",
    "\n",
    "print(present)"
   ]
  },
  {
   "cell_type": "markdown",
   "metadata": {},
   "source": [
    "Now validate the documents."
   ]
  },
  {
   "cell_type": "code",
   "execution_count": 87,
   "metadata": {},
   "outputs": [
    {
     "name": "stdout",
     "output_type": "stream",
     "text": [
      "{'hgt': '159cm', 'pid': '561068005', 'eyr': '2025', 'iyr': '2017', 'cid': '139', 'ecl': 'blu', 'hcl': '#ceb3a1', 'byr': '1940'}\n",
      "{'cid': '211', 'ecl': 'blu', 'hcl': '#7d3b0c', 'iyr': '2011', 'pid': '006632702', 'byr': '1982', 'eyr': '2023', 'hgt': '68in'}\n",
      "{'hgt': '155cm', 'hcl': '#a97842', 'iyr': '2019', 'ecl': 'gry', 'byr': '1939', 'pid': '935099157', 'eyr': '2027'}\n",
      "{'hcl': '#ceb3a1', 'byr': '1984', 'pid': '863872932', 'iyr': '2016', 'hgt': '190cm', 'ecl': 'grn', 'eyr': '2026'}\n",
      "{'eyr': '2030', 'hcl': '#efcc98', 'cid': '166', 'pid': '894418497', 'ecl': 'hzl', 'hgt': '189cm', 'iyr': '2014', 'byr': '1966'}\n",
      "{'hgt': '166cm', 'hcl': '#6b5442', 'byr': '1953', 'eyr': '2023', 'iyr': '2010', 'pid': '948173962', 'ecl': 'amb'}\n",
      "{'cid': '251', 'byr': '1981', 'pid': '625590775', 'hcl': '#a97842', 'eyr': '2020', 'ecl': 'amb', 'hgt': '178cm', 'iyr': '2016'}\n",
      "{'ecl': 'brn', 'cid': '289', 'pid': '868305933', 'byr': '1936', 'hgt': '174cm', 'iyr': '2016', 'hcl': '#623a2f', 'eyr': '2021'}\n",
      "{'hcl': '#2a6308', 'eyr': '2027', 'hgt': '154cm', 'ecl': 'grn', 'iyr': '2012', 'byr': '1940', 'pid': '675209536'}\n",
      "{'ecl': 'grn', 'hgt': '177cm', 'pid': '725111435', 'byr': '1927', 'eyr': '2027', 'cid': '154', 'iyr': '2010', 'hcl': '#623a2f'}\n",
      "{'pid': '801551597', 'cid': '55', 'eyr': '2028', 'hgt': '193cm', 'hcl': '#a97842', 'ecl': 'hzl', 'byr': '1942', 'iyr': '2015'}\n",
      "{'cid': '176', 'eyr': '2030', 'iyr': '2018', 'byr': '1932', 'hgt': '162cm', 'pid': '896180324', 'ecl': 'amb', 'hcl': '#6b5442'}\n",
      "{'iyr': '2012', 'ecl': 'gry', 'eyr': '2025', 'hcl': '#602927', 'hgt': '168cm', 'byr': '1925', 'pid': '303312675'}\n",
      "{'pid': '719820090', 'iyr': '2020', 'hgt': '165cm', 'hcl': '#ceb3a1', 'byr': '1997', 'ecl': 'blu', 'eyr': '2027'}\n",
      "{'eyr': '2025', 'pid': '241723456', 'iyr': '2011', 'byr': '1953', 'cid': '230', 'hgt': '185cm', 'hcl': '#efcc98', 'ecl': 'oth'}\n",
      "{'byr': '1936', 'hcl': '#623a2f', 'iyr': '2010', 'hgt': '156cm', 'eyr': '2022', 'pid': '064253102', 'ecl': 'brn'}\n",
      "{'ecl': 'grn', 'hgt': '67in', 'iyr': '2012', 'byr': '1953', 'pid': '910793005', 'hcl': '#341e13', 'eyr': '2020'}\n",
      "{'hgt': '162cm', 'pid': '024916763', 'eyr': '2026', 'ecl': 'hzl', 'hcl': '#efcc98', 'iyr': '2019', 'byr': '1921'}\n",
      "{'eyr': '2022', 'hcl': '#6b5442', 'byr': '1941', 'ecl': 'grn', 'hgt': '169cm', 'iyr': '2014', 'pid': '610328167'}\n",
      "{'pid': '907508207', 'ecl': 'oth', 'byr': '1941', 'iyr': '2017', 'hcl': '#341e13', 'eyr': '2030', 'hgt': '186cm'}\n",
      "{'iyr': '2018', 'byr': '1925', 'ecl': 'brn', 'eyr': '2023', 'pid': '903196231', 'hgt': '159cm', 'hcl': '#a97842', 'cid': '323'}\n",
      "{'ecl': 'blu', 'hcl': '#602927', 'cid': '234', 'hgt': '68in', 'eyr': '2021', 'pid': '257420555', 'iyr': '2014', 'byr': '1972'}\n",
      "{'hcl': '#7d3b0c', 'eyr': '2022', 'hgt': '152cm', 'byr': '1974', 'iyr': '2017', 'pid': '353127736', 'ecl': 'gry'}\n",
      "{'iyr': '2018', 'eyr': '2028', 'byr': '1924', 'hcl': '#69929e', 'ecl': 'gry', 'hgt': '68in', 'pid': '942207567'}\n",
      "{'eyr': '2028', 'cid': '90', 'hgt': '185cm', 'ecl': 'amb', 'byr': '1990', 'pid': '947625812', 'hcl': '#623a2f', 'iyr': '2011'}\n",
      "{'eyr': '2023', 'byr': '1996', 'hgt': '175cm', 'iyr': '2012', 'hcl': '#866857', 'ecl': 'blu', 'pid': '437669135'}\n",
      "{'byr': '1937', 'eyr': '2030', 'hcl': '#866857', 'iyr': '2017', 'pid': '513963895', 'hgt': '157cm', 'ecl': 'grn'}\n",
      "{'iyr': '2016', 'hcl': '#623a2f', 'eyr': '2025', 'pid': '559150893', 'hgt': '176cm', 'byr': '1920', 'ecl': 'amb'}\n",
      "{'pid': '307171649', 'byr': '1935', 'hcl': '#888785', 'hgt': '182cm', 'ecl': 'brn', 'eyr': '2030', 'iyr': '2013', 'cid': '256'}\n",
      "{'cid': '267', 'byr': '1930', 'pid': '949963673', 'eyr': '2026', 'ecl': 'grn', 'iyr': '2020', 'hgt': '188cm', 'hcl': '#6b5442'}\n",
      "{'eyr': '2022', 'pid': '254482159', 'byr': '1935', 'iyr': '2017', 'ecl': 'hzl', 'hcl': '#b6652a', 'hgt': '165cm'}\n",
      "{'byr': '1969', 'ecl': 'oth', 'hgt': '151cm', 'pid': '578662559', 'eyr': '2024', 'iyr': '2015', 'hcl': '#602927', 'cid': '343'}\n",
      "{'hcl': '#a97842', 'iyr': '2010', 'pid': '558586208', 'eyr': '2029', 'byr': '2002', 'ecl': 'amb', 'cid': '225', 'hgt': '152cm'}\n",
      "{'byr': '1970', 'hcl': '#6b5442', 'hgt': '155cm', 'iyr': '2020', 'ecl': 'hzl', 'pid': '698123164', 'eyr': '2030', 'cid': '185'}\n",
      "{'hcl': '#6b5442', 'ecl': 'hzl', 'iyr': '2014', 'cid': '324', 'pid': '149063285', 'hgt': '64in', 'eyr': '2023', 'byr': '1949'}\n",
      "{'hcl': '#866857', 'eyr': '2025', 'iyr': '2012', 'cid': '116', 'hgt': '185cm', 'pid': '416329937', 'ecl': 'grn', 'byr': '1962'}\n",
      "{'iyr': '2020', 'hgt': '71in', 'ecl': 'hzl', 'byr': '1960', 'cid': '53', 'hcl': '#888785', 'pid': '590574853', 'eyr': '2024'}\n",
      "{'pid': '834729501', 'iyr': '2019', 'hgt': '72in', 'byr': '1977', 'hcl': '#604861', 'ecl': 'oth', 'eyr': '2024'}\n",
      "{'pid': '111536282', 'ecl': 'gry', 'hgt': '69in', 'eyr': '2021', 'byr': '1940', 'iyr': '2019', 'hcl': '#ceb3a1'}\n",
      "{'hgt': '186cm', 'pid': '045765056', 'ecl': 'gry', 'byr': '1958', 'iyr': '2012', 'eyr': '2025', 'hcl': '#cfa07d'}\n",
      "{'byr': '1984', 'hcl': '#866857', 'iyr': '2013', 'pid': '927074474', 'hgt': '168cm', 'eyr': '2021', 'ecl': 'oth'}\n",
      "{'hgt': '186cm', 'pid': '948677443', 'iyr': '2014', 'hcl': '#866857', 'byr': '1968', 'ecl': 'amb', 'eyr': '2027'}\n",
      "{'eyr': '2028', 'cid': '260', 'hcl': '#623a2f', 'pid': '500330326', 'iyr': '2018', 'hgt': '170cm', 'ecl': 'gry', 'byr': '1960'}\n",
      "{'hgt': '164cm', 'cid': '160', 'iyr': '2010', 'byr': '1922', 'eyr': '2024', 'hcl': '#c0946f', 'ecl': 'gry', 'pid': '867476938'}\n",
      "{'iyr': '2016', 'hgt': '172cm', 'pid': '482664712', 'ecl': 'hzl', 'eyr': '2024', 'hcl': '#602927', 'byr': '1945'}\n",
      "{'hgt': '170cm', 'eyr': '2030', 'pid': '846949920', 'hcl': '#ceb3a1', 'ecl': 'hzl', 'iyr': '2016', 'byr': '1945'}\n",
      "{'pid': '788563693', 'hcl': '#a97842', 'hgt': '172cm', 'eyr': '2022', 'ecl': 'brn', 'iyr': '2010', 'byr': '2002'}\n",
      "{'eyr': '2023', 'iyr': '2013', 'hgt': '189cm', 'hcl': '#866857', 'byr': '1981', 'cid': '313', 'ecl': 'brn', 'pid': '386584267'}\n",
      "{'iyr': '2011', 'hcl': '#7d3b0c', 'eyr': '2027', 'ecl': 'gry', 'byr': '1931', 'hgt': '71in', 'pid': '435568613'}\n",
      "{'byr': '1989', 'ecl': 'oth', 'iyr': '2011', 'eyr': '2027', 'pid': '761106563', 'hcl': '#efcc98', 'hgt': '60in'}\n",
      "{'ecl': 'hzl', 'pid': '311990731', 'hgt': '171cm', 'hcl': '#602927', 'byr': '1978', 'eyr': '2026', 'cid': '254', 'iyr': '2014'}\n",
      "{'hcl': '#8e0dfc', 'pid': '961997362', 'byr': '1950', 'eyr': '2027', 'hgt': '184in', 'ecl': 'blu', 'iyr': '2015', 'cid': '266'}\n",
      "{'pid': '953859016', 'iyr': '2018', 'hcl': '#341e13', 'ecl': 'grn', 'cid': '61', 'hgt': '192cm', 'eyr': '2022', 'byr': '1920'}\n",
      "{'eyr': '2025', 'hgt': '176cm', 'iyr': '2020', 'ecl': 'oth', 'hcl': '#efcc98', 'pid': '196082064', 'byr': '2002'}\n",
      "{'cid': '254', 'iyr': '2020', 'pid': '716596533', 'hcl': '#341e13', 'byr': '1947', 'hgt': '150cm', 'ecl': 'hzl', 'eyr': '2028'}\n",
      "{'iyr': '2019', 'pid': '190601635', 'byr': '1922', 'hcl': '#18171d', 'hgt': '71in', 'ecl': 'brn', 'eyr': '2021'}\n",
      "{'byr': '1938', 'iyr': '2019', 'eyr': '2028', 'pid': '568504071', 'hcl': '#efcc98', 'hgt': '178cm', 'ecl': 'amb'}\n",
      "{'pid': '921417345', 'eyr': '2020', 'ecl': 'brn', 'hcl': '#c0946f', 'hgt': '168cm', 'byr': '1983', 'cid': '170', 'iyr': '2018'}\n",
      "{'eyr': '2021', 'iyr': '2014', 'hgt': '156cm', 'pid': '654181902', 'ecl': 'amb', 'byr': '1946', 'hcl': '#733820'}\n",
      "{'iyr': '2019', 'hgt': '189cm', 'byr': '1940', 'pid': '419593669', 'ecl': 'amb', 'cid': '149', 'hcl': '#fffffd', 'eyr': '2020'}\n",
      "{'pid': '405789549', 'byr': '1982', 'eyr': '2020', 'hcl': '#623a2f', 'hgt': '161cm', 'iyr': '2013', 'ecl': 'amb'}\n",
      "{'pid': '775860836', 'hgt': '184cm', 'hcl': '#fffffd', 'ecl': 'amb', 'byr': '1930', 'eyr': '2022', 'iyr': '2016'}\n",
      "{'iyr': '2020', 'byr': '1979', 'eyr': '2024', 'hgt': '171cm', 'ecl': 'brn', 'hcl': '#ceb3a1', 'pid': '853915000'}\n",
      "{'iyr': '2015', 'pid': '244459567', 'hcl': '#18171d', 'cid': '224', 'byr': '1931', 'eyr': '2022', 'hgt': '169cm', 'ecl': 'gry'}\n",
      "{'iyr': '2017', 'cid': '308', 'eyr': '2026', 'ecl': 'blu', 'hgt': '59in', 'byr': '1953', 'hcl': '#ceb3a1', 'pid': '466915764'}\n",
      "{'hcl': '#7d3b0c', 'byr': '1940', 'iyr': '2015', 'eyr': '2020', 'pid': '950614940', 'ecl': 'amb', 'hgt': '179cm'}\n",
      "{'cid': '216', 'hgt': '193cm', 'byr': '1975', 'ecl': 'oth', 'pid': '684529055', 'iyr': '2018', 'eyr': '2020', 'hcl': '#18171d'}\n",
      "{'hgt': '150cm', 'eyr': '2028', 'hcl': '#cfa07d', 'ecl': 'grn', 'iyr': '2018', 'byr': '1951', 'pid': '749102509'}\n",
      "{'pid': '937451204', 'hcl': '#341e13', 'iyr': '2020', 'hgt': '171cm', 'eyr': '2021', 'byr': '1941', 'ecl': 'hzl'}\n",
      "{'cid': '69', 'iyr': '2014', 'eyr': '2022', 'pid': '174789690', 'hgt': '157cm', 'byr': '1961', 'ecl': 'hzl', 'hcl': '#a97842'}\n",
      "{'hcl': '#602927', 'eyr': '2024', 'cid': '130', 'iyr': '2015', 'ecl': 'blu', 'hgt': '184cm', 'byr': '1996', 'pid': '897871188'}\n",
      "{'ecl': 'oth', 'hcl': '#623a2f', 'iyr': '2016', 'pid': '012591439', 'byr': '1937', 'eyr': '2022', 'hgt': '176cm'}\n",
      "{'eyr': '2020', 'byr': '1965', 'iyr': '2013', 'hgt': '193cm', 'hcl': '#ceb3a1', 'ecl': 'hzl', 'pid': '177120440'}\n",
      "{'byr': '1934', 'iyr': '2015', 'hcl': '#341e13', 'pid': '370860309', 'ecl': 'oth', 'eyr': '2028', 'hgt': '157cm'}\n",
      "{'ecl': 'brn', 'byr': '2001', 'iyr': '2010', 'eyr': '2028', 'hcl': '#866857', 'hgt': '183cm', 'pid': '194361427'}\n",
      "{'iyr': '2020', 'ecl': 'hzl', 'eyr': '2030', 'hgt': '185cm', 'byr': '1969', 'hcl': '#ceb3a1', 'pid': '157651787'}\n",
      "{'iyr': '2015', 'ecl': 'grn', 'hcl': '#83b224', 'eyr': '2021', 'pid': '554994156', 'hgt': '179cm', 'byr': '1994'}\n",
      "{'cid': '125', 'byr': '1943', 'hgt': '168cm', 'ecl': 'hzl', 'pid': '418786991', 'eyr': '2020', 'iyr': '2016', 'hcl': '#cfa07d'}\n",
      "{'cid': '243', 'hcl': '#cfa07d', 'byr': '1951', 'ecl': 'oth', 'pid': '382615614', 'iyr': '2018', 'eyr': '2030', 'hgt': '64in'}\n",
      "{'eyr': '2028', 'iyr': '2013', 'ecl': 'brn', 'byr': '1923', 'cid': '174', 'hcl': '#b6652a', 'hgt': '154cm', 'pid': '274036240'}\n",
      "{'hgt': '188cm', 'byr': '1979', 'ecl': 'amb', 'eyr': '2025', 'hcl': '#b6652a', 'cid': '130', 'pid': '646985829', 'iyr': '2019'}\n",
      "{'hgt': '188cm', 'hcl': '#733820', 'eyr': '2024', 'ecl': 'grn', 'iyr': '2018', 'byr': '1982', 'pid': '522812862'}\n",
      "{'eyr': '2026', 'pid': '288363970', 'cid': '70', 'byr': '1932', 'hgt': '157cm', 'iyr': '2016', 'ecl': 'hzl', 'hcl': '#ceb3a1'}\n",
      "{'byr': '1992', 'pid': '539896055', 'eyr': '2023', 'cid': '189', 'hgt': '70in', 'ecl': 'oth', 'iyr': '2019', 'hcl': '#866857'}\n",
      "{'eyr': '2024', 'hgt': '170cm', 'ecl': 'hzl', 'byr': '1939', 'pid': '851235247', 'iyr': '2013', 'hcl': '#fffffd'}\n",
      "{'ecl': 'hzl', 'hcl': '#c0946f', 'hgt': '167cm', 'eyr': '2024', 'byr': '1936', 'pid': '463230636', 'cid': '297', 'iyr': '2016'}\n",
      "{'pid': '291401545', 'ecl': 'grn', 'hcl': '#b6652a', 'iyr': '2014', 'hgt': '185cm', 'eyr': '2025', 'byr': '1947'}\n",
      "{'eyr': '2029', 'pid': '612595763', 'iyr': '2018', 'ecl': 'gry', 'cid': '290', 'byr': '1991', 'hcl': '#733820', 'hgt': '150cm'}\n",
      "{'eyr': '2023', 'byr': '1956', 'hgt': '188cm', 'iyr': '2014', 'hcl': '#b6652a', 'pid': '382721925', 'ecl': 'brn'}\n",
      "{'pid': '164334257', 'iyr': '2014', 'cid': '286', 'eyr': '2020', 'hcl': '#733820', 'ecl': 'gry', 'byr': '1959', 'hgt': '165cm'}\n",
      "{'pid': '604128460', 'iyr': '2016', 'byr': '1952', 'hgt': '152cm', 'ecl': 'grn', 'hcl': '#7d3b0c', 'eyr': '2021'}\n",
      "{'hcl': '#18171d', 'iyr': '2019', 'eyr': '2026', 'hgt': '191cm', 'pid': '514596186', 'cid': '327', 'byr': '1938', 'ecl': 'grn'}\n",
      "{'pid': '832184923', 'eyr': '2023', 'hgt': '180cm', 'byr': '1965', 'ecl': 'hzl', 'cid': '189', 'hcl': '#a97842', 'iyr': '2016'}\n",
      "{'cid': '336', 'ecl': 'oth', 'byr': '1975', 'pid': '296100726', 'hcl': '#6b5442', 'iyr': '2016', 'hgt': '180cm', 'eyr': '2029'}\n",
      "{'hcl': '#ceb3a1', 'hgt': '181cm', 'pid': '364719801', 'byr': '1922', 'eyr': '2029', 'iyr': '2010', 'cid': '346', 'ecl': 'gry'}\n",
      "{'hcl': '#1c7f1d', 'cid': '205', 'hgt': '184cm', 'byr': '1928', 'pid': '694275035', 'iyr': '2018', 'ecl': 'blu', 'eyr': '2023'}\n",
      "{'iyr': '2018', 'eyr': '2023', 'hcl': '#888785', 'hgt': '188cm', 'ecl': 'amb', 'byr': '1992', 'pid': '602211075'}\n",
      "{'pid': '848099019', 'hgt': '168cm', 'iyr': '2016', 'eyr': '2026', 'ecl': 'amb', 'hcl': '#866857', 'byr': '1981'}\n",
      "{'iyr': '2013', 'hcl': '#623a2f', 'hgt': '151cm', 'cid': '135', 'byr': '1974', 'eyr': '2026', 'ecl': 'gry', 'pid': '313553018'}\n",
      "{'hcl': '#733820', 'byr': '1986', 'hgt': '182cm', 'ecl': 'brn', 'eyr': '2024', 'iyr': '2017', 'pid': '676008782'}\n",
      "{'eyr': '2030', 'pid': '833874339', 'iyr': '2011', 'byr': '1949', 'hgt': '159cm', 'ecl': 'brn', 'hcl': '#602927'}\n",
      "{'hgt': '182cm', 'hcl': '#6b5442', 'pid': '131549376', 'eyr': '2029', 'iyr': '2012', 'ecl': 'gry', 'byr': '1926'}\n",
      "{'hgt': '136', 'pid': '599182089', 'eyr': '2020', 'byr': '1945', 'iyr': '2012', 'ecl': 'oth', 'hcl': '#18171d'}\n",
      "{'eyr': '2020', 'hgt': '175cm', 'cid': '140', 'iyr': '2014', 'byr': '1980', 'hcl': '#7d3b0c', 'ecl': 'grn', 'pid': '400508366'}\n",
      "{'byr': '1986', 'hgt': '159cm', 'ecl': 'brn', 'pid': '856817592', 'hcl': '#cfa07d', 'eyr': '2024', 'iyr': '2017'}\n",
      "{'hgt': '166cm', 'byr': '1996', 'hcl': '#410645', 'ecl': 'hzl', 'iyr': '2010', 'cid': '178', 'pid': '337713295', 'eyr': '2026'}\n",
      "{'byr': '1929', 'iyr': '2011', 'hcl': '#fffffd', 'ecl': 'blu', 'pid': '013408674', 'hgt': '187cm', 'eyr': '2021'}\n",
      "{'hcl': '#cfa07d', 'byr': '1986', 'cid': '331', 'iyr': '2010', 'ecl': 'gry', 'pid': '616063053', 'hgt': '150cm', 'eyr': '2028'}\n",
      "{'byr': '1978', 'eyr': '2024', 'hgt': '155cm', 'iyr': '2012', 'hcl': '#694989', 'pid': '914726069', 'ecl': 'amb'}\n",
      "{'ecl': 'blu', 'pid': '139464317', 'hcl': '#fffffd', 'eyr': '2024', 'byr': '1970', 'hgt': '72in', 'iyr': '2012'}\n",
      "{'byr': '1994', 'cid': '228', 'ecl': 'grn', 'hgt': '171cm', 'pid': '538884417', 'eyr': '2025', 'iyr': '2011', 'hcl': '#6b5442'}\n",
      "{'cid': '264', 'hcl': '#623a2f', 'hgt': '186cm', 'iyr': '2012', 'ecl': 'brn', 'eyr': '2024', 'pid': '304101929', 'byr': '1954'}\n",
      "{'byr': '1974', 'hcl': '#c0946f', 'iyr': '2018', 'pid': '285451524', 'cid': '299', 'eyr': '2029', 'hgt': '184cm', 'ecl': 'hzl'}\n",
      "{'byr': '1974', 'hcl': '#602927', 'hgt': '151cm', 'iyr': '2013', 'pid': '322935162', 'ecl': 'amb', 'cid': '209', 'eyr': '2026'}\n",
      "{'ecl': 'gry', 'eyr': '2023', 'hgt': '160cm', 'hcl': '#c0946f', 'iyr': '2011', 'byr': '1926', 'pid': '727347794'}\n",
      "{'iyr': '2012', 'byr': '1974', 'hcl': '#866857', 'eyr': '2025', 'pid': '933155590', 'hgt': '167cm', 'ecl': 'grn'}\n",
      "{'iyr': '2015', 'ecl': 'gry', 'eyr': '2029', 'byr': '1967', 'hcl': '#f9f576', 'hgt': '170cm', 'pid': '439696954', 'cid': '173'}\n",
      "{'eyr': '2029', 'ecl': 'hzl', 'hcl': '#866857', 'byr': '1994', 'pid': '308548232', 'hgt': '162cm', 'iyr': '2012'}\n",
      "{'byr': '1924', 'cid': '274', 'pid': '028266367', 'eyr': '2025', 'iyr': '2017', 'hgt': '169cm', 'hcl': '#cfa07d', 'ecl': 'gry'}\n",
      "{'eyr': '2025', 'byr': '1995', 'ecl': 'brn', 'hgt': '160cm', 'pid': '819047484', 'hcl': '#602927', 'iyr': '2011'}\n",
      "{'pid': '660383456', 'iyr': '2016', 'eyr': '2022', 'hgt': '158cm', 'byr': '1942', 'ecl': 'amb', 'cid': '334', 'hcl': '#efcc98'}\n",
      "{'eyr': '2024', 'iyr': '2017', 'hgt': '165cm', 'hcl': '#7d3b0c', 'byr': '1920', 'ecl': 'amb', 'pid': '236377188'}\n",
      "{'ecl': 'amb', 'hgt': '174cm', 'eyr': '2028', 'byr': '2002', 'hcl': '#7d3b0c', 'pid': '428826816', 'iyr': '2017'}\n",
      "{'eyr': '2021', 'hcl': '#efcc98', 'iyr': '2014', 'pid': '358236477', 'byr': '1923', 'cid': '73', 'hgt': '165cm', 'ecl': 'amb'}\n",
      "{'eyr': '2030', 'cid': '267', 'ecl': 'brn', 'pid': '282023612', 'hcl': '#c0946f', 'iyr': '2018', 'byr': '1989', 'hgt': '72cm'}\n",
      "{'hcl': '#341e13', 'byr': '1927', 'ecl': 'grn', 'iyr': '2011', 'hgt': '175cm', 'eyr': '2023', 'pid': '638808763', 'cid': '339'}\n",
      "{'eyr': '2030', 'cid': '160', 'byr': '1994', 'hgt': '163cm', 'ecl': 'hzl', 'iyr': '2016', 'hcl': '#623a2f', 'pid': '569304871'}\n",
      "{'byr': '1965', 'ecl': 'hzl', 'eyr': '2029', 'iyr': '2010', 'hgt': '157cm', 'hcl': '#7d3b0c', 'pid': '617693914'}\n",
      "{'pid': '547158528', 'byr': '1956', 'ecl': 'gry', 'hgt': '189cm', 'eyr': '2029', 'hcl': '#602927', 'iyr': '2011'}\n",
      "{'hcl': '#fffffd', 'eyr': '2021', 'iyr': '2014', 'byr': '1959', 'ecl': 'amb', 'pid': '102521439', 'hgt': '190cm'}\n",
      "{'iyr': '2019', 'hgt': '183cm', 'ecl': 'brn', 'hcl': '#efcc98', 'pid': '821190245', 'cid': '251', 'eyr': '2023', 'byr': '1993'}\n",
      "{'ecl': 'oth', 'iyr': '2018', 'cid': '131', 'hcl': '#524e2e', 'byr': '1981', 'hgt': '183cm', 'eyr': '2022', 'pid': '037981572'}\n",
      "{'hcl': '#18171d', 'byr': '1934', 'eyr': '2020', 'hgt': '62in', 'cid': '64', 'ecl': 'oth', 'pid': '343039563', 'iyr': '2010'}\n",
      "{'hcl': '#733820', 'pid': '374199356', 'hgt': '169cm', 'eyr': '2026', 'byr': '1994', 'iyr': '2015', 'ecl': 'brn'}\n",
      "{'pid': '394267581', 'hcl': '#a97842', 'iyr': '2010', 'byr': '1988', 'hgt': '185cm', 'ecl': 'amb', 'eyr': '2022'}\n",
      "{'eyr': '2029', 'hcl': '#a97842', 'ecl': 'amb', 'hgt': '159cm', 'cid': '228', 'byr': '1946', 'iyr': '2012', 'pid': '805319194'}\n",
      "{'hcl': '#c0946f', 'eyr': '2020', 'hgt': '171cm', 'ecl': 'oth', 'iyr': '2010', 'byr': '1958', 'pid': '276122958'}\n",
      "{'hgt': '67in', 'eyr': '2030', 'ecl': 'gry', 'pid': '156329184', 'iyr': '2010', 'byr': '1936', 'hcl': '#efcc98'}\n",
      "{'cid': '110', 'hgt': '76in', 'iyr': '2018', 'eyr': '2029', 'pid': '474249956', 'byr': '2002', 'hcl': '#866857', 'ecl': 'oth'}\n",
      "{'iyr': '2016', 'hgt': '193cm', 'eyr': '2029', 'byr': '1934', 'hcl': '#b6652a', 'pid': '901756621', 'ecl': 'brn'}\n",
      "137\n"
     ]
    }
   ],
   "source": [
    "# Documents with all fields present are in the list ps_present.\n",
    "valid = 0\n",
    "ecl_valid = set(['amb', 'blu', 'brn', 'gry', 'grn', 'hzl', 'oth'])\n",
    "\n",
    "for ent_pr in ps_present:\n",
    "    if int(ent_pr['byr']) >= 1920 and int(ent_pr['byr']) <= 2002 and int(ent_pr['iyr']) >= 2010 and int(ent_pr['iyr']) <= 2020 and int(ent_pr['eyr']) >= 2020 and int(ent_pr['eyr']) <= 2030 and re.match(r'^\\#[a-f0-9]{6}$', ent_pr['hcl']) and ent_pr['ecl'] in ecl_valid and len(ent_pr['pid']) == 9:\n",
    "        ent_hgt = {}\n",
    "        if re.search(r'(cm)$', ent_pr['hgt']):\n",
    "            ent_hgt = {'cm': re.search(r'[0-9]+', ent_pr['hgt']).group()}\n",
    "            if int(ent_hgt['cm']) >= 150 and int(ent_hgt['cm']) <= 193:\n",
    "                valid = valid + 1\n",
    "        elif re.search(r'(in)$', ent_pr['hgt']):\n",
    "            ent_hgt = {'in': re.search(r'[0-9]+', ent_pr['hgt']).group()}\n",
    "            if int(ent_hgt['in']) >= 59 and int(ent_hgt['in']) <= 76:\n",
    "                valid = valid + 1\n",
    "        print(ent_pr)\n",
    "\n",
    "print(valid)"
   ]
  },
  {
   "cell_type": "code",
   "execution_count": null,
   "metadata": {},
   "outputs": [],
   "source": []
  }
 ],
 "metadata": {
  "kernelspec": {
   "display_name": "Python 3",
   "language": "python",
   "name": "python3"
  },
  "language_info": {
   "codemirror_mode": {
    "name": "ipython",
    "version": 3
   },
   "file_extension": ".py",
   "mimetype": "text/x-python",
   "name": "python",
   "nbconvert_exporter": "python",
   "pygments_lexer": "ipython3",
   "version": "3.8.1"
  }
 },
 "nbformat": 4,
 "nbformat_minor": 4
}
